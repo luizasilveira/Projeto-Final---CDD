{
 "cells": [
  {
   "cell_type": "markdown",
   "metadata": {},
   "source": [
    "# Projeto 3\n",
    "### Luiza Silveira e Jose Antonio Bechara"
   ]
  },
  {
   "cell_type": "markdown",
   "metadata": {},
   "source": [
    "# Objetivo: \n",
    "### Determinar se uma pessoa é homem ou mulher dado caracteristicas da voz ."
   ]
  },
  {
   "cell_type": "code",
   "execution_count": 278,
   "metadata": {},
   "outputs": [],
   "source": [
    "import pandas as pd\n",
    "import seaborn as sns\n",
    "import matplotlib.pyplot as plt\n",
    "import matplotlib\n"
   ]
  },
  {
   "cell_type": "code",
   "execution_count": 279,
   "metadata": {},
   "outputs": [
    {
     "data": {
      "text/plain": [
       "(3168, 21)"
      ]
     },
     "execution_count": 279,
     "metadata": {},
     "output_type": "execute_result"
    }
   ],
   "source": [
    "df = pd.read_csv('voice1.csv', quotechar=',')\n",
    "df.columns=df.columns.str.replace('\"','')\n",
    "df['meanfreq'] = df['meanfreq'].map(lambda x: x.lstrip('\"'))\n",
    "df['label'] = df['label'].map(lambda x: x.lstrip('\"').rstrip('\"\"'))\n",
    "df.tail(10)\n",
    "df.shape\n",
    "\n",
    "\n",
    "\n",
    "\n",
    "\n"
   ]
  },
  {
   "cell_type": "code",
   "execution_count": 280,
   "metadata": {},
   "outputs": [],
   "source": [
    "y = df['label'] == 'female'"
   ]
  },
  {
   "cell_type": "code",
   "execution_count": 281,
   "metadata": {},
   "outputs": [],
   "source": [
    "X = df[['meanfreq', 'sd', 'median', 'Q25', 'Q75', 'IQR', 'skew', 'kurt']]"
   ]
  },
  {
   "cell_type": "code",
   "execution_count": 282,
   "metadata": {},
   "outputs": [
    {
     "data": {
      "text/plain": [
       "(2217, 8)"
      ]
     },
     "execution_count": 282,
     "metadata": {},
     "output_type": "execute_result"
    }
   ],
   "source": [
    "from sklearn.model_selection import train_test_split\n",
    "X_train, X_test, y_train, y_test = train_test_split(X, y, test_size=0.3)\n",
    "\n",
    "X_train.shape\n",
    "\n",
    "\n"
   ]
  },
  {
   "cell_type": "code",
   "execution_count": 283,
   "metadata": {},
   "outputs": [
    {
     "name": "stderr",
     "output_type": "stream",
     "text": [
      "C:\\Users\\luiza\\Anaconda3\\lib\\site-packages\\sklearn\\linear_model\\logistic.py:432: FutureWarning: Default solver will be changed to 'lbfgs' in 0.22. Specify a solver to silence this warning.\n",
      "  FutureWarning)\n"
     ]
    },
    {
     "data": {
      "text/plain": [
       "LogisticRegression(C=1.0, class_weight=None, dual=False, fit_intercept=True,\n",
       "          intercept_scaling=1, max_iter=100, multi_class='warn',\n",
       "          n_jobs=None, penalty='l2', random_state=None, solver='warn',\n",
       "          tol=0.0001, verbose=0, warm_start=False)"
      ]
     },
     "execution_count": 283,
     "metadata": {},
     "output_type": "execute_result"
    }
   ],
   "source": [
    "from sklearn.linear_model import LogisticRegression\n",
    "model = LogisticRegression()\n",
    "model.fit(X_train, y_train)"
   ]
  },
  {
   "cell_type": "code",
   "execution_count": 284,
   "metadata": {},
   "outputs": [],
   "source": [
    "y_pred = model.predict(X_test)\n"
   ]
  },
  {
   "cell_type": "code",
   "execution_count": 285,
   "metadata": {},
   "outputs": [
    {
     "data": {
      "text/plain": [
       "0.879074658254469"
      ]
     },
     "execution_count": 285,
     "metadata": {},
     "output_type": "execute_result"
    }
   ],
   "source": [
    "from sklearn.metrics import accuracy_score\n",
    "\n",
    "accuracy_score(y_test, y_pred)\n"
   ]
  },
  {
   "cell_type": "code",
   "execution_count": 288,
   "metadata": {},
   "outputs": [
    {
     "data": {
      "text/plain": [
       "0       0.0597809849598081\n",
       "1        0.066008740387572\n",
       "2       0.0773155026958227\n",
       "3        0.151228091724635\n",
       "4        0.135120387296677\n",
       "5        0.132786407306188\n",
       "6        0.150762330177465\n",
       "7        0.160514332166817\n",
       "8        0.142239416807037\n",
       "9        0.134328777309825\n",
       "10       0.157020511056795\n",
       "11       0.138550521389033\n",
       "12       0.137342741880723\n",
       "13       0.181225459373767\n",
       "14       0.183115280687352\n",
       "15       0.174272105181833\n",
       "16       0.190846297652897\n",
       "17       0.171246971349986\n",
       "18       0.168345946168349\n",
       "19       0.173631376053858\n",
       "20       0.172754287202847\n",
       "21       0.181015393833521\n",
       "22       0.163535853470868\n",
       "23       0.170212797508261\n",
       "24       0.160422476518119\n",
       "25       0.164699838046527\n",
       "26       0.169578801414252\n",
       "27       0.169021003926254\n",
       "28       0.167340238692684\n",
       "29       0.180527821446414\n",
       "               ...        \n",
       "3138     0.114476673472514\n",
       "3139     0.112769241426586\n",
       "3140     0.126438849047168\n",
       "3141     0.117349503081724\n",
       "3142     0.104793080310999\n",
       "3143      0.12763305800824\n",
       "3144    0.0912499796669216\n",
       "3145    0.0824037606177626\n",
       "3146     0.124694755473016\n",
       "3147     0.131565984980927\n",
       "3148     0.108888454769572\n",
       "3149    0.0904448086555179\n",
       "3150     0.137507330399356\n",
       "3151     0.113147729574269\n",
       "3152      0.14973092556978\n",
       "3153     0.189613974447218\n",
       "3154     0.200096968294961\n",
       "3155     0.178572502839913\n",
       "3156     0.201805871837687\n",
       "3157     0.203626694520727\n",
       "3158     0.183667260279776\n",
       "3159     0.168794368168998\n",
       "3160     0.151770961732611\n",
       "3161     0.170655914426341\n",
       "3162     0.146023362615033\n",
       "3163     0.131883734383811\n",
       "3164     0.116220922114276\n",
       "3165     0.142056255712406\n",
       "3166     0.143658744830027\n",
       "3167     0.165508946001837\n",
       "Name: meanfreq, Length: 3168, dtype: object"
      ]
     },
     "execution_count": 288,
     "metadata": {},
     "output_type": "execute_result"
    }
   ],
   "source": [
    "X[\"meanfreq\"] \n",
    "\n",
    "    \n",
    "\n",
    "\n"
   ]
  },
  {
   "cell_type": "code",
   "execution_count": null,
   "metadata": {},
   "outputs": [],
   "source": []
  }
 ],
 "metadata": {
  "kernelspec": {
   "display_name": "Python 3",
   "language": "python",
   "name": "python3"
  }
 },
 "nbformat": 4,
 "nbformat_minor": 2
}
